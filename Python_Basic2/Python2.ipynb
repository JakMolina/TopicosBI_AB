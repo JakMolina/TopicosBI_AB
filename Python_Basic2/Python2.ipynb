{
 "cells": [
  {
   "cell_type": "markdown",
   "id": "7db2785c",
   "metadata": {},
   "source": [
    "# Python using Pandas and Numpy for Big Data\n",
    "\n",
    "Se instala las librerias Pandas, Numpy para trabajar con datos masivos."
   ]
  }
 ],
 "metadata": {
  "language_info": {
   "name": "python"
  }
 },
 "nbformat": 4,
 "nbformat_minor": 5
}
